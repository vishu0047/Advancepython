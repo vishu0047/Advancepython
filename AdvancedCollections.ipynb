{
  "nbformat": 4,
  "nbformat_minor": 0,
  "metadata": {
    "colab": {
      "name": "AdvancedCollections.ipynb",
      "provenance": [],
      "authorship_tag": "ABX9TyMOScdeV2IfjH/dfhf75wFh",
      "include_colab_link": true
    },
    "kernelspec": {
      "name": "python3",
      "display_name": "Python 3"
    }
  },
  "cells": [
    {
      "cell_type": "markdown",
      "metadata": {
        "id": "view-in-github",
        "colab_type": "text"
      },
      "source": [
        "<a href=\"https://colab.research.google.com/github/vishu0047/Advancepython/blob/master/AdvancedCollections.ipynb\" target=\"_parent\"><img src=\"https://colab.research.google.com/assets/colab-badge.svg\" alt=\"Open In Colab\"/></a>"
      ]
    },
    {
      "cell_type": "markdown",
      "metadata": {
        "id": "af6enoEMv9Im",
        "colab_type": "text"
      },
      "source": [
        "**Basic Collections:->**\n",
        "\n",
        "list -> Mutable sequence of values\n",
        "\n",
        "tuple -> Fixed sequence of values\n",
        "\n",
        "set -> Sequence of distinct values\n",
        "\n",
        "dictionary -> Collection of key-value pairs\n",
        "\n",
        "**Advanced collections :**\n",
        "\n",
        "namedtuple -> tuple with named fields\n",
        "\n",
        "OrderedDict, defaultdict -> Dictionaries with special properties\n",
        "\n",
        "Counter -> Counts distinct values\n",
        "\n",
        "deque -> Double-eded list object"
      ]
    },
    {
      "cell_type": "code",
      "metadata": {
        "id": "O79qb5VL7NIk",
        "colab_type": "code",
        "outputId": "ba03b626-9099-4ecc-a0a8-48f76d36a652",
        "colab": {
          "base_uri": "https://localhost:8080/",
          "height": 68
        }
      },
      "source": [
        "#namedTuple\n",
        "\n",
        "import collections\n",
        "\n",
        "#TODO : create a point namedtuple\n",
        "Point = collections.namedtuple(\"Point\",\"x y\")\n",
        "p1 = Point(10,20)\n",
        "p2 = Point(30,40)\n",
        "print(p1,p2)\n",
        "#descriptive name in order to acess value\n",
        "print(p1.x,p2.y)\n",
        "# TODO : use _replace to create a new instance\n",
        "p1 = p1._replace(x=100)\n",
        "print(p1)\n"
      ],
      "execution_count": 0,
      "outputs": [
        {
          "output_type": "stream",
          "text": [
            "Point(x=10, y=20) Point(x=30, y=40)\n",
            "10 40\n",
            "Point(x=100, y=20)\n"
          ],
          "name": "stdout"
        }
      ]
    },
    {
      "cell_type": "code",
      "metadata": {
        "id": "evPqepT28P1F",
        "colab_type": "code",
        "outputId": "4ca62f8f-8bb7-4d9c-d071-3f213916a817",
        "colab": {
          "base_uri": "https://localhost:8080/",
          "height": 71
        }
      },
      "source": [
        "#defaultdict\n",
        "from collections import defaultdict\n",
        "#define a list of item we want to count\n",
        "fruits = ['apple','pear','orange','banana','apple','grape','banana','banana']\n",
        "\n",
        "# use a dictionary to count fruit\n",
        "fruitCounter ={}\n",
        "\n",
        "for fruit in fruits:\n",
        "  if fruit in fruitCounter.keys():\n",
        "    fruitCounter[fruit]+=1\n",
        "  else:\n",
        "    fruitCounter[fruit] = 1\n",
        "\n",
        "print(fruitCounter)\n",
        "\n",
        "#TODO : using default dict\n",
        "fruitCounter = defaultdict(int)\n",
        "fruitCounter = defaultdict(lambda:100)\n",
        "\n",
        "for fruit in fruits:\n",
        "  fruitCounter[fruit]+=1\n",
        "\n",
        "print(fruitCounter)\n",
        "\n",
        "\n"
      ],
      "execution_count": 0,
      "outputs": [
        {
          "output_type": "stream",
          "text": [
            "{'apple': 2, 'pear': 1, 'orange': 1, 'banana': 3, 'grape': 1}\n",
            "defaultdict(<function <lambda> at 0x7f6047f70a60>, {'apple': 102, 'pear': 101, 'orange': 101, 'banana': 103, 'grape': 101})\n"
          ],
          "name": "stdout"
        }
      ]
    },
    {
      "cell_type": "code",
      "metadata": {
        "id": "D9txRVCc1ZZe",
        "colab_type": "code",
        "outputId": "f9a15136-428d-4b84-d84e-46ea97d6b358",
        "colab": {
          "base_uri": "https://localhost:8080/",
          "height": 119
        }
      },
      "source": [
        "# Counters - counting hashables\n",
        "from collections import Counter\n",
        "\n",
        "class1 = [\"vish\",\"jerry\",\"vish\",\"maddy\",\"jerry\",\"vish\"]\n",
        "class2 =[\"bill\",\"barry\",\"cindy\",\"kelly\",\"vish\"]\n",
        "# create A Counter for class1 and class2\n",
        "c1 = Counter(class1)\n",
        "c2 = Counter(class2)\n",
        "\n",
        "# counts the element n class1 and find the total count\n",
        "print(c1[\"vish\"])\n",
        "print(\"total in class 1 is\",sum(c1.values()))\n",
        "\n",
        "# Counter can combine together\n",
        "c1.update(class2)\n",
        "print(\"total in class 1 is\",sum(c1.values()))\n",
        "\n",
        "# most common function\n",
        "print(c1.most_common(3))\n",
        "\n",
        "# separate the classes again\n",
        "c1.subtract(class2)\n",
        "print(c1.most_common(3))\n",
        "\n",
        "# and to find out the intersection of two counter\n",
        "print(c1&c2)"
      ],
      "execution_count": 0,
      "outputs": [
        {
          "output_type": "stream",
          "text": [
            "3\n",
            "total in class 1 is 6\n",
            "total in class 1 is 11\n",
            "[('vish', 4), ('jerry', 2), ('maddy', 1)]\n",
            "[('vish', 3), ('jerry', 2), ('maddy', 1)]\n",
            "Counter({'vish': 1})\n"
          ],
          "name": "stdout"
        }
      ]
    },
    {
      "cell_type": "code",
      "metadata": {
        "id": "-pq--F814oIw",
        "colab_type": "code",
        "colab": {
          "base_uri": "https://localhost:8080/",
          "height": 71
        },
        "outputId": "3ab44bf5-019b-4ad6-a6fc-ddb21cf5f35f"
      },
      "source": [
        "# OrderDict -- remember the order in which item is inserting, regular dict doesn't keep the order among the items.\n",
        "# list of sport teams with wins and losses\n",
        "sportTeams = [(\"Royals\",(18,12)),(\"Rockets\",(24,6)),(\"Cardinals\",(20,10)),(\"Dragons\",(22,8)),(\"Kings\",(15,15)),(\"Chargers\",(20,10)),(\"Jets\",(16,14)),(\"Warriors\",(25,5))]\n",
        "print(sportTeams[1][0])\n",
        "test = \n",
        "# sort the teams by number of wins\n",
        "sortedTeams = sorted(sportTeams,key = lambda t:t[1][0], reverse = True)\n",
        "print(sortedTeams)\n",
        "\n",
        "\n",
        "\n"
      ],
      "execution_count": 4,
      "outputs": [
        {
          "output_type": "stream",
          "text": [
            "Rockets\n",
            "[('Warriors', (25, 5)), ('Rockets', (24, 6)), ('Dragons', (22, 8)), ('Cardinals', (20, 10)), ('Chargers', (20, 10)), ('Royals', (18, 12)), ('Jets', (16, 14)), ('Kings', (15, 15))]\n"
          ],
          "name": "stdout"
        }
      ]
    },
    {
      "cell_type": "code",
      "metadata": {
        "colab_type": "code",
        "outputId": "3ab44bf5-019b-4ad6-a6fc-ddb21cf5f35f",
        "id": "r--Lzg-W8--l",
        "colab": {
          "base_uri": "https://localhost:8080/",
          "height": 71
        }
      },
      "source": [
        "# OrderDict -- remember the order in which item is inserting, regular dict doesn't keep the order among the items.\n",
        "# list of sport teams with wins and losses\n",
        "sportTeams = [(\"Royals\",(18,12)),(\"Rockets\",(24,6)),(\"Cardinals\",(20,10)),(\"Dragons\",(22,8)),(\"Kings\",(15,15)),(\"Chargers\",(20,10)),(\"Jets\",(16,14)),(\"Warriors\",(25,5))]\n",
        "print(sportTeams[1][0])\n",
        "test = \n",
        "# sort the teams by number of wins\n",
        "sortedTeams = sorted(sportTeams,key = lambda t:t[1][0], reverse = True)\n",
        "print(sortedTeams)\n",
        "\n",
        "\n",
        "\n"
      ],
      "execution_count": 0,
      "outputs": [
        {
          "output_type": "stream",
          "text": [
            "Rockets\n",
            "[('Warriors', (25, 5)), ('Rockets', (24, 6)), ('Dragons', (22, 8)), ('Cardinals', (20, 10)), ('Chargers', (20, 10)), ('Royals', (18, 12)), ('Jets', (16, 14)), ('Kings', (15, 15))]\n"
          ],
          "name": "stdout"
        }
      ]
    },
    {
      "cell_type": "code",
      "metadata": {
        "colab_type": "code",
        "outputId": "ca5420aa-4af8-49d6-d8aa-5966f840041b",
        "id": "GdnwvurK9AU-",
        "colab": {
          "base_uri": "https://localhost:8080/",
          "height": 156
        }
      },
      "source": [
        "# OrderDict -- remember the order in which item is inserting, regular dict doesn't keep the order among the items.\n",
        "# list of sport teams with wins and losses\n",
        "from collections import OrderedDict\n",
        "sportTeams = [(\"Royals\",(18,12)),(\"Rockets\",(24,6)),(\"Cardinals\",(20,10)),(\"Dragons\",(22,8)),(\"Kings\",(15,15)),(\"Chargers\",(20,10)),(\"Jets\",(16,14)),(\"Warriors\",(25,5))]\n",
        "#print(sportTeams[1][0])\n",
        "#test = (\"Rockets\",(24,6))\n",
        "#print(test[1][0])\n",
        "# sort the teams by number of wins\n",
        "sortedTeams = sorted(sportTeams,key = lambda t:t[1][0], reverse = True)\n",
        "#print(sortedTeams)\n",
        "# TODO : create an ordered dictionary of the teams\n",
        "teams = OrderedDict(sortedTeams)\n",
        "print(teams)\n",
        "\n",
        "\n",
        "# TODO : Use popitem to remove the top item\n",
        "tm, wl = teams.popitem(False)\n",
        "print(tm,wl)\n",
        "#TODO : what are next the top 4 teams?\n",
        "for i, team in enumerate(teams, start=1):\n",
        "  print(i, team)\n",
        "  if i==4:\n",
        "    break\n",
        "\n",
        "# TODO : test for equality\n",
        "\n",
        "a = OrderedDict({\"a\":1, \"b\":2,\"c\":3})\n",
        "b = OrderedDict({\"a\":1, \"b\":2,\"c\":3})\n",
        "print(\"equality test\", a==b)\n"
      ],
      "execution_count": 11,
      "outputs": [
        {
          "output_type": "stream",
          "text": [
            "OrderedDict([('Warriors', (25, 5)), ('Rockets', (24, 6)), ('Dragons', (22, 8)), ('Cardinals', (20, 10)), ('Chargers', (20, 10)), ('Royals', (18, 12)), ('Jets', (16, 14)), ('Kings', (15, 15))])\n",
            "Warriors (25, 5)\n",
            "1 Rockets\n",
            "2 Dragons\n",
            "3 Cardinals\n",
            "4 Chargers\n",
            "equality test True\n"
          ],
          "name": "stdout"
        }
      ]
    },
    {
      "cell_type": "markdown",
      "metadata": {
        "id": "EAM1ewC8BrHi",
        "colab_type": "text"
      },
      "source": [
        "# **Deque**\n",
        "\n",
        "\n",
        "* Double-ended queue, pronounced \"deck\"\n",
        "\n",
        "* d = collections.deque('iterable object')\n",
        "\n",
        "* to add use , \"appendleft()\" or \"append()\"\n",
        "\n",
        "* to remove , \"popleft()\"  or \"pop()\"\n",
        "\n",
        "* rotate() to rotate deck:)\n",
        "\n",
        "\n"
      ]
    },
    {
      "cell_type": "code",
      "metadata": {
        "id": "ltRRevdkCKH-",
        "colab_type": "code",
        "colab": {
          "base_uri": "https://localhost:8080/",
          "height": 68
        },
        "outputId": "c46df591-1e8b-4046-9c80-c0f15550f4ce"
      },
      "source": [
        "# Deque\n",
        "\n",
        "import collections\n",
        "import string\n",
        "\n",
        "# TODO : initialize a deque with lowercase letters\n",
        "d = collections.deque(string.ascii_lowercase)\n",
        "\n",
        "\n",
        "\n",
        "# TODO : deques support the len() function\n",
        "print(len(d))\n",
        "\n",
        "# TODO : deques can be iterated over\n",
        "#for elem in d:\n",
        "  #print(elem.upper(),end = \",\")\n",
        "\n",
        "\n",
        "# TODO : manipulate items from either end\n",
        "d.pop()\n",
        "d.popleft()\n",
        "d.append(2)\n",
        "d.appendleft(1)\n",
        "print(d)\n",
        "# TODO : rotate the deque\n",
        "d.rotate(10)\n",
        "print(d)"
      ],
      "execution_count": 18,
      "outputs": [
        {
          "output_type": "stream",
          "text": [
            "26\n",
            "deque([1, 'b', 'c', 'd', 'e', 'f', 'g', 'h', 'i', 'j', 'k', 'l', 'm', 'n', 'o', 'p', 'q', 'r', 's', 't', 'u', 'v', 'w', 'x', 'y', 2])\n",
            "deque(['q', 'r', 's', 't', 'u', 'v', 'w', 'x', 'y', 2, 1, 'b', 'c', 'd', 'e', 'f', 'g', 'h', 'i', 'j', 'k', 'l', 'm', 'n', 'o', 'p'])\n"
          ],
          "name": "stdout"
        }
      ]
    },
    {
      "cell_type": "code",
      "metadata": {
        "id": "BRmkZjTxF9Kb",
        "colab_type": "code",
        "colab": {}
      },
      "source": [
        ""
      ],
      "execution_count": 0,
      "outputs": []
    }
  ]
}