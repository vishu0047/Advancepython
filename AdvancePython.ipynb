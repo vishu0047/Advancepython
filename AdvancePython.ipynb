{
  "nbformat": 4,
  "nbformat_minor": 0,
  "metadata": {
    "colab": {
      "name": "AdvancePython.ipynb",
      "provenance": [],
      "authorship_tag": "ABX9TyOuBSgvlOcI9MpCHLqGgcvQ",
      "include_colab_link": true
    },
    "kernelspec": {
      "name": "python3",
      "display_name": "Python 3"
    }
  },
  "cells": [
    {
      "cell_type": "markdown",
      "metadata": {
        "id": "view-in-github",
        "colab_type": "text"
      },
      "source": [
        "<a href=\"https://colab.research.google.com/github/vishu0047/Advancepython/blob/master/AdvancePython.ipynb\" target=\"_parent\"><img src=\"https://colab.research.google.com/assets/colab-badge.svg\" alt=\"Open In Colab\"/></a>"
      ]
    },
    {
      "cell_type": "markdown",
      "metadata": {
        "id": "ETitdHmWRnPe",
        "colab_type": "text"
      },
      "source": [
        "* False and None evaluate to false\n",
        "## False value:\n",
        "* Numeric zero values : 0, 0.0, 0j \n",
        "* Decimal(0), Fraction(0,x)\n",
        "* Empty sequences/collection:'', (),[],{}\n",
        "* Empty sets and ranges:set(), range(0)"
      ]
    },
    {
      "cell_type": "markdown",
      "metadata": {
        "id": "bIehKSHESyvk",
        "colab_type": "text"
      },
      "source": [
        "### True Value :\n",
        "* All custom object, untill they have override boolean method with false return "
      ]
    },
    {
      "cell_type": "code",
      "metadata": {
        "id": "4iJC_cO8d3Uk",
        "colab_type": "code",
        "colab": {
          "base_uri": "https://localhost:8080/",
          "height": 34
        },
        "outputId": "97d83d07-114e-42e5-c1d6-9937093f9440"
      },
      "source": [
        "x =[]\n",
        "print(bool(x))"
      ],
      "execution_count": 1,
      "outputs": [
        {
          "output_type": "stream",
          "text": [
            "False\n"
          ],
          "name": "stdout"
        }
      ]
    },
    {
      "cell_type": "code",
      "metadata": {
        "id": "5vpXnEhRd_yx",
        "colab_type": "code",
        "colab": {
          "base_uri": "https://localhost:8080/",
          "height": 34
        },
        "outputId": "b58851cb-1ed4-4997-eb10-5d7b11ac8e16"
      },
      "source": [
        "x={}\n",
        "print(bool(x))"
      ],
      "execution_count": 2,
      "outputs": [
        {
          "output_type": "stream",
          "text": [
            "False\n"
          ],
          "name": "stdout"
        }
      ]
    },
    {
      "cell_type": "code",
      "metadata": {
        "id": "btDVt5VieLSB",
        "colab_type": "code",
        "colab": {}
      },
      "source": [
        ""
      ],
      "execution_count": 0,
      "outputs": []
    },
    {
      "cell_type": "markdown",
      "metadata": {
        "id": "XDUQFdEwefjI",
        "colab_type": "text"
      },
      "source": [
        "strings and bytes are not directly interchangable\n",
        "\n",
        "strings contain unicode, bytes are raw 8-bit values"
      ]
    },
    {
      "cell_type": "code",
      "metadata": {
        "id": "0JEsK3JDev0f",
        "colab_type": "code",
        "colab": {
          "base_uri": "https://localhost:8080/",
          "height": 122
        },
        "outputId": "6512621b-a5bf-4027-f922-57364c04c2c2"
      },
      "source": [
        "def main():\n",
        "  b=bytes([0x41, 0x42, 0x43, 0x44])\n",
        "  print(b)\n",
        "  s = \"This is a string\"\n",
        "  print(s)\n",
        "\n",
        "  #TODO : try combining them.\n",
        "  #print(s+b)\n",
        "\n",
        "  #TODO : Bytes and Strings need to be properly encoded and decoded\n",
        "  # before you can work on them together\n",
        "  s2 = b.decode('utf-8')\n",
        "  print(s+s2)\n",
        "  b2 = s.encode('utf-8')\n",
        "  print(b+b2)\n",
        "  # TODO: encode the string as UTF-32\n",
        "  b3 = s.encode('utf-32')\n",
        "  print(b3)\n",
        "\n",
        "if __name__ == \"__main__\":\n",
        "  main()"
      ],
      "execution_count": 11,
      "outputs": [
        {
          "output_type": "stream",
          "text": [
            "b'ABCD'\n",
            "This is a string\n",
            "This is a stringABCD\n",
            "b'ABCDThis is a string'\n",
            "b'\\xff\\xfe\\x00\\x00T\\x00\\x00\\x00h\\x00\\x00\\x00i\\x00\\x00\\x00s\\x00\\x00\\x00 \\x00\\x00\\x00i\\x00\\x00\\x00s\\x00\\x00\\x00 \\x00\\x00\\x00a\\x00\\x00\\x00 \\x00\\x00\\x00s\\x00\\x00\\x00t\\x00\\x00\\x00r\\x00\\x00\\x00i\\x00\\x00\\x00n\\x00\\x00\\x00g\\x00\\x00\\x00'\n"
          ],
          "name": "stdout"
        }
      ]
    },
    {
      "cell_type": "markdown",
      "metadata": {
        "id": "WHG3eO_MlF4H",
        "colab_type": "text"
      },
      "source": [
        "Template String for String formating\n",
        "\n",
        "* want to format string with extra secure way it might be a better way(don't trust data source)"
      ]
    },
    {
      "cell_type": "code",
      "metadata": {
        "id": "8t-_TA0cfElx",
        "colab_type": "code",
        "colab": {
          "base_uri": "https://localhost:8080/",
          "height": 68
        },
        "outputId": "9ae0cbd8-e7ea-4ebb-d9fe-1856097eb5ac"
      },
      "source": [
        "from string import Template\n",
        "def main():\n",
        "  # Usual string formatting with format()\n",
        "  str1 = \"you are watching {0} and {1}\".format(\"Advanced Python\", \"Joe Marini\")\n",
        "  print(str1)\n",
        "  # TODo : create a template with placeholders\n",
        "  templ = Template(\"you are watching ${title} and ${author}\")\n",
        "  #TODO : use the substitute method with keyword arguments\n",
        "  str2 = templ.substitute(title =\"Advanced python\", author =\"Joe Marini\")\n",
        "  print(str2)\n",
        "  # TODO : use the substitute method with dict\n",
        "  data= {\"author\":\"Joe Marini\",\n",
        "         \"title\":\"Advanced Python\"}\n",
        "  str3 = templ.substitute(data)\n",
        "  print(str3)\n",
        "if __name__ == \"__main__\":\n",
        "  main()\n",
        "  "
      ],
      "execution_count": 19,
      "outputs": [
        {
          "output_type": "stream",
          "text": [
            "you are watching Advanced Python and Joe Marini\n",
            "you are watching Advanced python and Joe Marini\n",
            "you are watching Advanced Python and Joe Marini\n"
          ],
          "name": "stdout"
        }
      ]
    },
    {
      "cell_type": "code",
      "metadata": {
        "id": "_DQtOsiLl420",
        "colab_type": "code",
        "colab": {}
      },
      "source": [
        ""
      ],
      "execution_count": 0,
      "outputs": []
    }
  ]
}