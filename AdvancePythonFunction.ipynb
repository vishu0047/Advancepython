{
  "nbformat": 4,
  "nbformat_minor": 0,
  "metadata": {
    "colab": {
      "name": "AdvancePythonFunction.ipynb",
      "provenance": [],
      "authorship_tag": "ABX9TyPy3Zlg7XhkrEg8m2aJGv47",
      "include_colab_link": true
    },
    "kernelspec": {
      "name": "python3",
      "display_name": "Python 3"
    }
  },
  "cells": [
    {
      "cell_type": "markdown",
      "metadata": {
        "id": "view-in-github",
        "colab_type": "text"
      },
      "source": [
        "<a href=\"https://colab.research.google.com/github/vishu0047/Advancepython/blob/master/AdvancePythonFunction.ipynb\" target=\"_parent\"><img src=\"https://colab.research.google.com/assets/colab-badge.svg\" alt=\"Open In Colab\"/></a>"
      ]
    },
    {
      "cell_type": "markdown",
      "metadata": {
        "id": "BTvcXYIQMImb",
        "colab_type": "text"
      },
      "source": [
        "Doc string for python function and Class\n",
        "\n",
        "**Doc string best practices :**\n",
        "\n",
        "-> Enclose docstrings in triple quotes.\n",
        "\n",
        "-> First line should be summary sentence of functionality\n",
        "\n",
        "-> Modules : List important classes, functions, exceptions\n",
        "\n",
        "-> Classes : List important methods\n",
        "\n",
        "**For Functions:**\n",
        "\n",
        "-> List parameters and explain each, one per line\n",
        "\n",
        "-> if there's return value, then list it; otherwise omit\n",
        "\n",
        "-> if the functions raises exception, mention those\n",
        "\n",
        "[docstring pep url](https://www.python.org/dev/peps/pep-0257)"
      ]
    },
    {
      "cell_type": "code",
      "metadata": {
        "id": "XdPKZWLTIvff",
        "colab_type": "code",
        "colab": {
          "base_uri": "https://localhost:8080/",
          "height": 85
        },
        "outputId": "6023ff39-28e1-492c-ca8e-d2210cb4131c"
      },
      "source": [
        "print(map.__doc__)"
      ],
      "execution_count": 1,
      "outputs": [
        {
          "output_type": "stream",
          "text": [
            "map(func, *iterables) --> map object\n",
            "\n",
            "Make an iterator that computes the function using arguments from\n",
            "each of the iterables.  Stops when the shortest iterable is exhausted.\n"
          ],
          "name": "stdout"
        }
      ]
    },
    {
      "cell_type": "code",
      "metadata": {
        "id": "X1L06QtWMCR_",
        "colab_type": "code",
        "colab": {
          "base_uri": "https://localhost:8080/",
          "height": 272
        },
        "outputId": "aa7bb0cd-3acf-4704-8b33-dacd21af8877"
      },
      "source": [
        "import collections\n",
        "print(collections.__doc__)"
      ],
      "execution_count": 2,
      "outputs": [
        {
          "output_type": "stream",
          "text": [
            "This module implements specialized container datatypes providing\n",
            "alternatives to Python's general purpose built-in containers, dict,\n",
            "list, set, and tuple.\n",
            "\n",
            "* namedtuple   factory function for creating tuple subclasses with named fields\n",
            "* deque        list-like container with fast appends and pops on either end\n",
            "* ChainMap     dict-like class for creating a single view of multiple mappings\n",
            "* Counter      dict subclass for counting hashable objects\n",
            "* OrderedDict  dict subclass that remembers the order entries were added\n",
            "* defaultdict  dict subclass that calls a factory function to supply missing values\n",
            "* UserDict     wrapper around dictionary objects for easier dict subclassing\n",
            "* UserList     wrapper around list objects for easier list subclassing\n",
            "* UserString   wrapper around string objects for easier string subclassing\n",
            "\n",
            "\n"
          ],
          "name": "stdout"
        }
      ]
    },
    {
      "cell_type": "code",
      "metadata": {
        "id": "ZDBjKOGJQWGU",
        "colab_type": "code",
        "colab": {
          "base_uri": "https://localhost:8080/",
          "height": 119
        },
        "outputId": "3e413c18-e170-4da7-f8c1-06a2e6be557a"
      },
      "source": [
        "# Demonstrate the use of function docstrings\n",
        "\n",
        "def myFunction(arg1, arg2=None):\n",
        "  \"\"\" myFunctio(arg1, arg2=None) ---> Doesn't really do anything, just prints/\n",
        "\n",
        "  Parameters:\n",
        "  arg1: the first argument.Whatever you feel like passing.\n",
        "  arg2: second  argument. defaults to None\n",
        "  \"\"\"\n",
        "  print(arg1,arg2)\n",
        "\n",
        "def main():\n",
        "  print(myFunction.__doc__)\n",
        "\n",
        "if __name__ == \"__main__\":\n",
        "  main()"
      ],
      "execution_count": 4,
      "outputs": [
        {
          "output_type": "stream",
          "text": [
            " myFunctio(arg1, arg2=None) ---> Doesn't really do anything, just prints/\n",
            "\n",
            "  Parameters:\n",
            "  arg1: the first argument.Whatever you feel like passing.\n",
            "  arg2: second  argument. defaults to None\n",
            "  \n"
          ],
          "name": "stdout"
        }
      ]
    },
    {
      "cell_type": "markdown",
      "metadata": {
        "id": "oEo7cFyyXNTo",
        "colab_type": "text"
      },
      "source": [
        "**Using Variale Arguments**\n",
        "\n",
        "Define functions that can take variable number of parameters\n",
        "\n",
        "Example : def addition(*numbers) \n",
        "\n",
        "-> variable parameters should come after all the positional parameters\n",
        "\n",
        "Ex : def log_message(msgType, msg, *params)"
      ]
    },
    {
      "cell_type": "code",
      "metadata": {
        "id": "2dNVmRNpQ4TT",
        "colab_type": "code",
        "colab": {
          "base_uri": "https://localhost:8080/",
          "height": 51
        },
        "outputId": "ffdf60f2-1c96-4776-8371-b5212d276d10"
      },
      "source": [
        "def addition(*args):\n",
        "  result =0\n",
        "  for arg in args:\n",
        "    result += arg\n",
        "  return result\n",
        "\n",
        "print(addition(1,2,3,4))\n",
        "mynumList = [1,2,3,4]\n",
        "\n",
        "print(addition(*mynumList))"
      ],
      "execution_count": 7,
      "outputs": [
        {
          "output_type": "stream",
          "text": [
            "10\n",
            "10\n"
          ],
          "name": "stdout"
        }
      ]
    },
    {
      "cell_type": "markdown",
      "metadata": {
        "id": "azbAMvuObvrL",
        "colab_type": "text"
      },
      "source": [
        "**Lambda Functions**\n",
        "\n",
        "-> Small, anonymous functions\n",
        "\n",
        "-> Cab be passed as argument where you need a function\n",
        "\n",
        "**Defined as:**\n",
        "\n",
        " *lambda (parameters) : (expression)*"
      ]
    },
    {
      "cell_type": "code",
      "metadata": {
        "id": "U3GaDRatbItV",
        "colab_type": "code",
        "colab": {
          "base_uri": "https://localhost:8080/",
          "height": 34
        },
        "outputId": "15fcfe71-1f95-4d07-ba12-d6d6b892d633"
      },
      "source": [
        "ftemp =[38, 42, 54, 65]\n",
        "print(list(map(lambda t: (t-32)* 5/9, ftemp)))"
      ],
      "execution_count": 8,
      "outputs": [
        {
          "output_type": "stream",
          "text": [
            "[3.3333333333333335, 5.555555555555555, 12.222222222222221, 18.333333333333332]\n"
          ],
          "name": "stdout"
        }
      ]
    },
    {
      "cell_type": "markdown",
      "metadata": {
        "id": "8N7FAqiHd_gn",
        "colab_type": "text"
      },
      "source": [
        "**Using Keyword-Only Arguments**\n",
        "\n",
        "* def myFunction(arg1, arg2,arg3 = \"foo\")\n",
        "\n",
        "By python 3 : one can separate positional parameter with keyword parameter using \"*\"\n",
        "\n",
        "Ex: def criticalFunc(arg1, *, suppressExc=False)"
      ]
    },
    {
      "cell_type": "code",
      "metadata": {
        "id": "6QUTStgteBet",
        "colab_type": "code",
        "colab": {
          "base_uri": "https://localhost:8080/",
          "height": 51
        },
        "outputId": "9e6dd309-ca53-46f2-b610-7e1442ccb513"
      },
      "source": [
        "def myFunction(arg1, arg2, *, suppressExceptions=False):\n",
        "  print(arg1)\n",
        "\n",
        "print(myFunction(1,2,suppressExceptions=True))"
      ],
      "execution_count": 9,
      "outputs": [
        {
          "output_type": "stream",
          "text": [
            "1\n",
            "None\n"
          ],
          "name": "stdout"
        }
      ]
    },
    {
      "cell_type": "code",
      "metadata": {
        "id": "TvqxaETJfWaC",
        "colab_type": "code",
        "colab": {}
      },
      "source": [
        ""
      ],
      "execution_count": 0,
      "outputs": []
    }
  ]
}