{
  "nbformat": 4,
  "nbformat_minor": 0,
  "metadata": {
    "colab": {
      "name": "AdvanceClasses.ipynb",
      "provenance": [],
      "authorship_tag": "ABX9TyOMFU+ut0JDVPQrK9VNAx4r",
      "include_colab_link": true
    },
    "kernelspec": {
      "name": "python3",
      "display_name": "Python 3"
    }
  },
  "cells": [
    {
      "cell_type": "markdown",
      "metadata": {
        "id": "view-in-github",
        "colab_type": "text"
      },
      "source": [
        "<a href=\"https://colab.research.google.com/github/vishu0047/Advancepython/blob/master/AdvanceClasses.ipynb\" target=\"_parent\"><img src=\"https://colab.research.google.com/assets/colab-badge.svg\" alt=\"Open In Colab\"/></a>"
      ]
    },
    {
      "cell_type": "markdown",
      "metadata": {
        "id": "q-G8MTHjIP2R",
        "colab_type": "text"
      },
      "source": [
        "Python Classes can be used for following:\n",
        "\n",
        "*  Create enumeration\n",
        "*  Customize string and byte representations of objects\n",
        "*  Define computed and default attributes\n",
        "*  Control how objects are logically compared to each other\n",
        "* Give object numeric-like behaviour(addition, substration, etc.)"
      ]
    },
    {
      "cell_type": "markdown",
      "metadata": {
        "id": "D4qari7YJNri",
        "colab_type": "text"
      },
      "source": [
        "# **Enumeration**\n",
        "\n",
        "* enum can't have duplicate key, it can have duplicate value\n",
        "* \"unique\" can help to prevent duplicate value\n",
        "* \"auto\" can use to asssign value to enum\n",
        "* enum can be used as a hashvalue"
      ]
    },
    {
      "cell_type": "code",
      "metadata": {
        "id": "-UCT6r-4JQ3v",
        "colab_type": "code",
        "colab": {
          "base_uri": "https://localhost:8080/",
          "height": 118
        },
        "outputId": "f8b0a6ae-d37f-417f-c2f1-034750d38233"
      },
      "source": [
        "from enum import Enum,unique,auto\n",
        "\n",
        "@unique\n",
        "class Fruit(Enum):\n",
        "  #enum should not have duplicate value\n",
        "  APPLE =1\n",
        "  BANANA = 2\n",
        "  ORANGE = 3\n",
        "  TOMATO = 4\n",
        "  PEAR = auto()\n",
        "  #RED_DELICIOUS =1\n",
        "\n",
        "\n",
        "def main():\n",
        "  pass\n",
        "  #TODO : enums have human-readable values and types\n",
        "  print(Fruit.APPLE)\n",
        "  print(type(Fruit.APPLE))\n",
        "  print(repr(Fruit.APPLE))\n",
        "\n",
        "\n",
        "  #TODO : enums have name and value properties\n",
        "  print(Fruit.APPLE.name, Fruit.APPLE.value)\n",
        "\n",
        "\n",
        "  #TODO : print the auto-generated value\n",
        "  print(Fruit.PEAR.value)\n",
        "\n",
        "  #TODO : enums are hashable - can be used as keys\n",
        "  myFruits = {}\n",
        "  myFruits[Fruit.BANANA] = \"cally-man\"\n",
        "  print(myFruits[Fruit.BANANA])\n",
        "\n",
        "\n",
        "if __name__ == \"__main__\":\n",
        "  main()"
      ],
      "execution_count": 14,
      "outputs": [
        {
          "output_type": "stream",
          "text": [
            "Fruit.APPLE\n",
            "<enum 'Fruit'>\n",
            "<Fruit.APPLE: 1>\n",
            "APPLE 1\n",
            "5\n",
            "cally-man\n"
          ],
          "name": "stdout"
        }
      ]
    },
    {
      "cell_type": "markdown",
      "metadata": {
        "id": "dgqOwrM8ThVu",
        "colab_type": "text"
      },
      "source": [
        "# **String Functions**\n",
        "\n",
        "* object.__str__(self)  -->  called when \"str(object), print(object), \"{0}\".format(object)\n",
        "\n",
        "* object.__repr__(self)  --> called when \"repr(object)\" --> try to return python expression that could be used to recreate the object with same value\n",
        "\n",
        "\n",
        "* object.__format__(self, format_spec) --> called when format(object, format_spec)\n",
        "\n",
        "* object.__bytes__(self) --> bytes(object)\n",
        "\n",
        "** if class overwrite __repr__ not __str__ then __repr__ is used to return __str__ value"
      ]
    },
    {
      "cell_type": "code",
      "metadata": {
        "id": "pebOk3_dfpOA",
        "colab_type": "code",
        "colab": {
          "base_uri": "https://localhost:8080/",
          "height": 67
        },
        "outputId": "e1dd4577-ddd2-4672-c25a-7092790c739d"
      },
      "source": [
        "class Person():\n",
        "  def __init__(self):\n",
        "    self.fname = \"vish\"\n",
        "    self.lname = \"jeet\"\n",
        "    self.age = 27\n",
        "\n",
        "  def __repr__(self):\n",
        "    return \"<Person class - fname:{0} , lname:{1} , age:{2}>\".format(self.fname,self.lname,self.age)\n",
        "  \n",
        "  def __str__(self):\n",
        "    return \"<person is {0} {1} and age is {2}>\".format(self.fname,self.lname,self.age)\n",
        "\n",
        "  def main():\n",
        "    cls1 = Person()\n",
        "\n",
        "    # use different Python functions to convert it to  a string\n",
        "    print(repr(cls1))\n",
        "    print(str(cls1))\n",
        "    print(\"Formatted: {0}\".format(cls1))\n",
        "\n",
        "  if __name__ == \"__main__\":\n",
        "    main()"
      ],
      "execution_count": 20,
      "outputs": [
        {
          "output_type": "stream",
          "text": [
            "<Person class - fname:vish , lname:jeet , age:27>\n",
            "<person is vish jeet and age is 27>\n",
            "Formatted: <person is vish jeet and age is 27>\n"
          ],
          "name": "stdout"
        }
      ]
    },
    {
      "cell_type": "markdown",
      "metadata": {
        "id": "yagipdesZNVQ",
        "colab_type": "text"
      },
      "source": [
        "# **Class Attribute Functions**\n",
        "![alt text]((https://github.com/vishu0047/Advancepython/blob/master/Annotation%202020-04-19%20224250.png)\n",
        "\n"
      ]
    },
    {
      "cell_type": "code",
      "metadata": {
        "id": "27GPRD4gWJLb",
        "colab_type": "code",
        "colab": {}
      },
      "source": [
        ""
      ],
      "execution_count": 0,
      "outputs": []
    }
  ]
}