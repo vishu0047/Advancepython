{
  "nbformat": 4,
  "nbformat_minor": 0,
  "metadata": {
    "colab": {
      "name": "PythonLogging.ipynb",
      "provenance": [],
      "authorship_tag": "ABX9TyOUK2b975GnOOWNyKgoA4mv",
      "include_colab_link": true
    },
    "kernelspec": {
      "name": "python3",
      "display_name": "Python 3"
    }
  },
  "cells": [
    {
      "cell_type": "markdown",
      "metadata": {
        "id": "view-in-github",
        "colab_type": "text"
      },
      "source": [
        "<a href=\"https://colab.research.google.com/github/vishu0047/Advancepython/blob/master/PythonLogging.ipynb\" target=\"_parent\"><img src=\"https://colab.research.google.com/assets/colab-badge.svg\" alt=\"Open In Colab\"/></a>"
      ]
    },
    {
      "cell_type": "markdown",
      "metadata": {
        "id": "_Tmv2RXKodis",
        "colab_type": "text"
      },
      "source": [
        "## **Python Logging**\n",
        "\n",
        "* Captures and records events while app is running\n",
        "\n",
        "* Useful debugging feature\n",
        "\n",
        "        - Not always practical to debug in real time\n",
        "\n",
        "* Events can be categorized for easier analysis.\n",
        "* Provides transaction record of a program's execution\n",
        "* Highly customizable output"
      ]
    },
    {
      "cell_type": "markdown",
      "metadata": {
        "id": "Y_Pp6ytUpPr8",
        "colab_type": "text"
      },
      "source": [
        "## **Using the logging Module**\n",
        "\n",
        "* import logging\n",
        "* logging.debug(\"debug-level message\")\n",
        "\n",
        "\n",
        "           Diagnostic information useful for debugging\n",
        "\n",
        "* logging.info(\"info-level message\")\n",
        "\n",
        "        - General information about program execution results\n",
        "* logging.warning(\"warning-level message\")\n",
        "\n",
        "        - Something unexpected, or an approaching problem\n",
        "* logging.error(\"error-level message\")\n",
        "\n",
        "        - Unable to perform a specific opertion due to problem\n",
        "* logging.critical(\"critical-level message\")\n",
        "\n",
        "        - Program may not be able to continue, serious error\n",
        "\n",
        "\n",
        "* logging messae by default display from warning message\n",
        "\n",
        "        but one can set level by using \"logging.basicConfig(level = logging.DEBUG)\""
      ]
    },
    {
      "cell_type": "code",
      "metadata": {
        "id": "FZtyLywupKs2",
        "colab_type": "code",
        "colab": {}
      },
      "source": [
        "import logging\n",
        "\n",
        "def logs():\n",
        "  # basicConfig to configure logging\n",
        "  #logging.basicConfig(level = logging.DEBUG, filename = \"output.log\", filemode = \"w\") / for output the log in output.log file\n",
        "  logging.basicConfig(level = logging.DEBUG)\n",
        "  logging.debug(\"debugging the code\")\n",
        "  logging.info(\" info of the code\")\n",
        "  logging.warning(\"warning of the code\")\n",
        "  logging.error(\"error of the code\")\n",
        "  logging.critical(\"critical issues in the code\")\n"
      ],
      "execution_count": 0,
      "outputs": []
    },
    {
      "cell_type": "code",
      "metadata": {
        "id": "aVfODJzHtP__",
        "colab_type": "code",
        "colab": {
          "base_uri": "https://localhost:8080/",
          "height": 101
        },
        "outputId": "111fa20c-0e58-4216-df3e-026858c2307e"
      },
      "source": [
        "logs()"
      ],
      "execution_count": 3,
      "outputs": [
        {
          "output_type": "stream",
          "text": [
            "DEBUG:root:debugging the code\n",
            "INFO:root: info of the code\n",
            "WARNING:root:warning of the code\n",
            "ERROR:root:error of the code\n",
            "CRITICAL:root:critical issues in the code\n"
          ],
          "name": "stderr"
        }
      ]
    },
    {
      "cell_type": "markdown",
      "metadata": {
        "id": "Nfmp-QOGt2vz",
        "colab_type": "text"
      },
      "source": [
        "## **Customized Logging**\n",
        "\n",
        "     basicConfig(\n",
        "       format = formatstr,\n",
        "       datefmt = date_format_str\n",
        "     )\n",
        "\n",
        "## **format supported**\n",
        "\n",
        "     %(asctime)s   -->  Human readable date format when the log record was created\n",
        "     %(filename)s  --> File name where the log message originated\n",
        "     %(funcName)s  --> Function name where the log message originated\n",
        "     %(levelname)s --> String representation of the message level (DEBUG, INFO, etc)\n",
        "     %(levelno)d   --> Numeric representation of the message level\n",
        "     %(lineno)d    --> Source line number where the logging call was issued (if available)\n",
        "     %(message)s   --> The logged message string itself\n",
        "     %(module)s    --> Module name portion of the filename where the message was logged \n"
      ]
    },
    {
      "cell_type": "code",
      "metadata": {
        "id": "KQdGa622tR7M",
        "colab_type": "code",
        "colab": {}
      },
      "source": [
        "import logging\n",
        "def logs_1():\n",
        "  # basicConfig to configure logging\n",
        "  #logging.basicConfig(level = logging.DEBUG, filename = \"output.log\", filemode = \"w\") / for output the log in output.log file\n",
        "  fmtstr = \"%(asctime)s: %(levelname)s: %(funcName)s Line:%(lineno)d %(message)s\"\n",
        "  logging.basicConfig(level = logging.DEBUG, format =fmtstr)\n",
        "  logging.debug(\"debugging the code\")\n",
        "  logging.info(\" info of the code\")\n",
        "  logging.warning(\"warning of the code\")\n"
      ],
      "execution_count": 0,
      "outputs": []
    },
    {
      "cell_type": "code",
      "metadata": {
        "id": "qms-gJZdwU6U",
        "colab_type": "code",
        "colab": {
          "base_uri": "https://localhost:8080/",
          "height": 67
        },
        "outputId": "4aa47c9a-0b25-403d-88d0-af76dba35395"
      },
      "source": [
        "logs_1()"
      ],
      "execution_count": 9,
      "outputs": [
        {
          "output_type": "stream",
          "text": [
            "DEBUG:root:debugging the code\n",
            "INFO:root: info of the code\n",
            "WARNING:root:warning of the code\n"
          ],
          "name": "stderr"
        }
      ]
    },
    {
      "cell_type": "code",
      "metadata": {
        "id": "Zv2j9qdpwXRA",
        "colab_type": "code",
        "colab": {}
      },
      "source": [
        " "
      ],
      "execution_count": 0,
      "outputs": []
    }
  ]
}