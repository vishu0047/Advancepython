{
  "nbformat": 4,
  "nbformat_minor": 0,
  "metadata": {
    "colab": {
      "name": "Built-In Functions.ipynb",
      "provenance": [],
      "authorship_tag": "ABX9TyNu9TGyese+IzD5EtoVnzsG",
      "include_colab_link": true
    },
    "kernelspec": {
      "name": "python3",
      "display_name": "Python 3"
    }
  },
  "cells": [
    {
      "cell_type": "markdown",
      "metadata": {
        "id": "view-in-github",
        "colab_type": "text"
      },
      "source": [
        "<a href=\"https://colab.research.google.com/github/vishu0047/Advancepython/blob/master/Built_In_Functions.ipynb\" target=\"_parent\"><img src=\"https://colab.research.google.com/assets/colab-badge.svg\" alt=\"Open In Colab\"/></a>"
      ]
    },
    {
      "cell_type": "markdown",
      "metadata": {
        "id": "amT9MxCqqray",
        "colab_type": "text"
      },
      "source": [
        "Python Built-in function list url:\n",
        "[functions](https://docs.python.org/3/library/functions.html)"
      ]
    },
    {
      "cell_type": "code",
      "metadata": {
        "id": "3tgKfhzXrEZL",
        "colab_type": "code",
        "colab": {
          "base_uri": "https://localhost:8080/",
          "height": 85
        },
        "outputId": "7f888967-1cab-4541-f769-925b482c3618"
      },
      "source": [
        "def main():\n",
        "  # use any() and all() to test sequences for boolean values\n",
        "  list1 = [1,2,3,0,5,6]\n",
        "\n",
        "  # TODO: any will return true if any of the sequence values are true\n",
        "  print(any(list1))\n",
        "  # TODO : all will return true only if all values are true\n",
        "  print(all(list1))\n",
        " # min and max return minimum and maximum values\n",
        "  print(\"min: \",min(list1))\n",
        "  # sum() to sum all element\n",
        "  print(sum(list1))   \n",
        "\n",
        "if __name__ == \"__main__\":\n",
        "  main()"
      ],
      "execution_count": 6,
      "outputs": [
        {
          "output_type": "stream",
          "text": [
            "True\n",
            "False\n",
            "min:  0\n",
            "17\n"
          ],
          "name": "stdout"
        }
      ]
    },
    {
      "cell_type": "markdown",
      "metadata": {
        "id": "YMcEkqU-tLSF",
        "colab_type": "text"
      },
      "source": [
        "For iteration:\n",
        "\n",
        "* use iterator functions like enumerate, zip, iter, next"
      ]
    },
    {
      "cell_type": "code",
      "metadata": {
        "id": "oWPzu8XBsHYG",
        "colab_type": "code",
        "colab": {
          "base_uri": "https://localhost:8080/",
          "height": 136
        },
        "outputId": "4477e172-719a-42df-fd87-9a29ead4dc04"
      },
      "source": [
        "def main():\n",
        "  # define a list of days in English and French\n",
        "  days = [\"Sun\", \"Mon\", \"Tue\", \"Wed\", \"Thu\", \"Fri\", \"Sat\"]\n",
        "  daysFr = [\"Dim\", \"Lun\", \"Mar\", \"Mer\", \"Jeu\", \"Ven\",\"Sam\"]\n",
        "  # TODO : use iter to create an iterator over a collection\n",
        "  i = iter(days)\n",
        "  #print(next(i))\n",
        "  #print(next(i))\n",
        "\n",
        "  # TODO: use regular interation over the days\n",
        "  #for m in days:\n",
        "    #print(m)\n",
        "  #for m in range(len(days)): # looping code hard to read\n",
        "    #print(m+1, days[m])\n",
        "\n",
        "  # TODO: above we can do using enumerate reduced code and provides a counter\n",
        "  #for i,m in enumerate(days, start=1):\n",
        "  #  print(i,m)\n",
        "\n",
        "  # TODO : use zip to combine sequences\n",
        "  #for m in zip(days, daysFr):\n",
        "  #  print(m)\n",
        "\n",
        "  for i,m in enumerate(zip(days, daysFr),start=1):\n",
        "    print(i,m[0],\"=\",m[1],\"in French\")\n",
        "\n",
        "  # zip end on shortest one\n",
        "\n",
        "\n",
        "\n",
        "\n",
        "\n",
        "\n",
        "if __name__== \"__main__\":\n",
        "  main()"
      ],
      "execution_count": 15,
      "outputs": [
        {
          "output_type": "stream",
          "text": [
            "1 Sun = Dim in French\n",
            "2 Mon = Lun in French\n",
            "3 Tue = Mar in French\n",
            "4 Wed = Mer in French\n",
            "5 Thu = Jeu in French\n",
            "6 Fri = Ven in French\n",
            "7 Sat = Sam in French\n"
          ],
          "name": "stdout"
        }
      ]
    },
    {
      "cell_type": "markdown",
      "metadata": {
        "id": "k_DRpfw3yCun",
        "colab_type": "text"
      },
      "source": [
        "Transform function are sorted, filter, map\n",
        "\n",
        "filter will create ierator , and to the task given\n",
        "\n",
        "> Indented block\n",
        "\n"
      ]
    },
    {
      "cell_type": "code",
      "metadata": {
        "id": "eVDErCSXuHoC",
        "colab_type": "code",
        "colab": {
          "base_uri": "https://localhost:8080/",
          "height": 34
        },
        "outputId": "1a4c5909-b7e9-4a65-b6f2-600273f21e3d"
      },
      "source": [
        "nums = (1,2,5,6,7,9)\n",
        "odds = list(filter( lambda x: True if (x%2==0) else False, nums))\n",
        "print(odds)"
      ],
      "execution_count": 19,
      "outputs": [
        {
          "output_type": "stream",
          "text": [
            "[2, 6]\n"
          ],
          "name": "stdout"
        }
      ]
    },
    {
      "cell_type": "code",
      "metadata": {
        "id": "cSDutgGBzUjl",
        "colab_type": "code",
        "colab": {
          "base_uri": "https://localhost:8080/",
          "height": 34
        },
        "outputId": "34b447c3-71c9-49de-86f7-9e7234100026"
      },
      "source": [
        "new = list(map(lambda x : x*x,nums))\n",
        "print(new)"
      ],
      "execution_count": 20,
      "outputs": [
        {
          "output_type": "stream",
          "text": [
            "[1, 4, 25, 36, 49, 81]\n"
          ],
          "name": "stdout"
        }
      ]
    },
    {
      "cell_type": "code",
      "metadata": {
        "id": "CEFdBzSv1sve",
        "colab_type": "code",
        "colab": {}
      },
      "source": [
        "grades = sorted(nums)"
      ],
      "execution_count": 0,
      "outputs": []
    },
    {
      "cell_type": "code",
      "metadata": {
        "id": "gXH2tvva2Bl7",
        "colab_type": "code",
        "colab": {
          "base_uri": "https://localhost:8080/",
          "height": 34
        },
        "outputId": "7690fef5-43e7-46f9-877b-d7909e0d800d"
      },
      "source": [
        "print(grades)"
      ],
      "execution_count": 22,
      "outputs": [
        {
          "output_type": "stream",
          "text": [
            "[1, 2, 5, 6, 7, 9]\n"
          ],
          "name": "stdout"
        }
      ]
    },
    {
      "cell_type": "markdown",
      "metadata": {
        "id": "y6gVmYU_2QTS",
        "colab_type": "text"
      },
      "source": [
        "***Itertools***\n",
        "\n",
        "Is not built in function, but part of stabdard library\n"
      ]
    },
    {
      "cell_type": "code",
      "metadata": {
        "id": "rKtJZQp42FXq",
        "colab_type": "code",
        "colab": {
          "base_uri": "https://localhost:8080/",
          "height": 85
        },
        "outputId": "96c23374-f6bf-4cbe-c3bd-2df7611c6800"
      },
      "source": [
        "import itertools\n",
        "\n",
        "#cycle : cycle over a collection\n",
        "\n",
        "seq = [\"joe\",\"john\",\"Mike\"]\n",
        "cycle1 = itertools.cycle(seq)\n",
        "print(next(cycle1))\n",
        "print(next(cycle1))\n",
        "print(next(cycle1))\n",
        "print(next(cycle1))"
      ],
      "execution_count": 26,
      "outputs": [
        {
          "output_type": "stream",
          "text": [
            "joe\n",
            "john\n",
            "Mike\n",
            "joe\n"
          ],
          "name": "stdout"
        }
      ]
    },
    {
      "cell_type": "code",
      "metadata": {
        "id": "9L8WYG5k3BKe",
        "colab_type": "code",
        "colab": {
          "base_uri": "https://localhost:8080/",
          "height": 68
        },
        "outputId": "ed418ecb-7e0d-48b6-d7e4-c0ffb3ed925e"
      },
      "source": [
        "# count :  to creae a simple counter\n",
        "\n",
        "count1 = itertools.count(100,10)\n",
        "print(next(count1))\n",
        "print(next(count1))\n",
        "print(next(count1))"
      ],
      "execution_count": 27,
      "outputs": [
        {
          "output_type": "stream",
          "text": [
            "100\n",
            "110\n",
            "120\n"
          ],
          "name": "stdout"
        }
      ]
    },
    {
      "cell_type": "code",
      "metadata": {
        "id": "aTI3eVBa3p8b",
        "colab_type": "code",
        "colab": {
          "base_uri": "https://localhost:8080/",
          "height": 34
        },
        "outputId": "cf0b9a86-28b7-44f8-94ec-5783b36512d6"
      },
      "source": [
        "#accumulate : crate an iterator that accumulates values\n",
        "vals = [10,20,30,40,50,40,30]\n",
        "\n",
        "acc = itertools.accumulate(vals, max)\n",
        "print(list(acc))"
      ],
      "execution_count": 31,
      "outputs": [
        {
          "output_type": "stream",
          "text": [
            "[10, 20, 30, 40, 50, 50, 50]\n"
          ],
          "name": "stdout"
        }
      ]
    },
    {
      "cell_type": "code",
      "metadata": {
        "id": "ProQ5xtY4A12",
        "colab_type": "code",
        "colab": {
          "base_uri": "https://localhost:8080/",
          "height": 34
        },
        "outputId": "166f01bc-f88e-41ec-8984-7994cff3b5fe"
      },
      "source": [
        "# itertools have two filter functions dropwhile and takewhile\n",
        "\n",
        "print(list(itertools.dropwhile(lambda x: x<40, vals)))"
      ],
      "execution_count": 34,
      "outputs": [
        {
          "output_type": "stream",
          "text": [
            "[40, 50, 40, 30]\n"
          ],
          "name": "stdout"
        }
      ]
    },
    {
      "cell_type": "code",
      "metadata": {
        "id": "EfYCn9KO5VFk",
        "colab_type": "code",
        "colab": {}
      },
      "source": [
        ""
      ],
      "execution_count": 0,
      "outputs": []
    }
  ]
}